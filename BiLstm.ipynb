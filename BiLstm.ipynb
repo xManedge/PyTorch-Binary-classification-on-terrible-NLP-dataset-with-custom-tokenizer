{
 "cells": [
  {
   "cell_type": "markdown",
   "source": [
    "Name: Manojkumar \n",
    "CWID: 20021499\n",
    "Code written by: Manedge"
   ],
   "metadata": {
    "collapsed": false
   },
   "id": "7396594cbcfb36f3"
  },
  {
   "cell_type": "markdown",
   "source": [
    "# IMPORTANT:\n",
    "ignore the warnings they are coming from an older version of sk learn being used. \n",
    "I am not updating sklearn because i need for this particular version another project i am working on  "
   ],
   "metadata": {
    "collapsed": false
   },
   "id": "b92bbbadfe668e26"
  },
  {
   "cell_type": "markdown",
   "source": [
    "# information \n",
    "We will be treating this problem as a binary class classification. \n",
    "The review rating 3 will be treated as a negative class  "
   ],
   "metadata": {
    "collapsed": false
   },
   "id": "d6cd5f39c58d0745"
  },
  {
   "cell_type": "code",
   "execution_count": 1,
   "id": "initial_id",
   "metadata": {
    "collapsed": true,
    "ExecuteTime": {
     "end_time": "2024-10-25T23:08:09.636984Z",
     "start_time": "2024-10-25T23:08:08.411880Z"
    }
   },
   "outputs": [],
   "source": [
    "import numpy as np\n",
    "import pandas as pd\n",
    "from string import punctuation, digits\n",
    "from nltk.tokenize import word_tokenize\n",
    "from nltk.corpus import stopwords\n",
    "from sklearn.model_selection import train_test_split\n",
    "from sklearn.metrics import confusion_matrix,accuracy_score, recall_score, precision_score, classification_report\n",
    "import gensim.downloader as api\n",
    "import matplotlib.pyplot as plt"
   ]
  },
  {
   "cell_type": "markdown",
   "source": [
    "# torch packages "
   ],
   "metadata": {
    "collapsed": false
   },
   "id": "e3fcd28f5e9d9f84"
  },
  {
   "cell_type": "code",
   "execution_count": 2,
   "outputs": [
    {
     "data": {
      "text/plain": "device(type='mps')"
     },
     "execution_count": 2,
     "metadata": {},
     "output_type": "execute_result"
    }
   ],
   "source": [
    "import torch \n",
    "from torch.utils.data import DataLoader, TensorDataset\n",
    "from torchmetrics import Accuracy\n",
    "device = torch.device('mps') if torch.backends.mps.is_available() else 'cpu'\n",
    "device"
   ],
   "metadata": {
    "collapsed": false,
    "ExecuteTime": {
     "end_time": "2024-10-25T23:08:10.862227Z",
     "start_time": "2024-10-25T23:08:09.637840Z"
    }
   },
   "id": "62c98e54727838c3"
  },
  {
   "cell_type": "code",
   "execution_count": 3,
   "outputs": [],
   "source": [
    "accuracy = Accuracy(top_k=1, task='multiclass', num_classes=2).to(device=device)"
   ],
   "metadata": {
    "collapsed": false,
    "ExecuteTime": {
     "end_time": "2024-10-25T23:08:10.870147Z",
     "start_time": "2024-10-25T23:08:10.862152Z"
    }
   },
   "id": "f117b4bbfb5edc8d"
  },
  {
   "cell_type": "markdown",
   "source": [
    "# printing the metrics "
   ],
   "metadata": {
    "collapsed": false
   },
   "id": "9fff9df40882cb07"
  },
  {
   "cell_type": "code",
   "execution_count": 4,
   "outputs": [],
   "source": [
    "# Metric printing \n",
    "def metric_analysis(ytrue,ypred):\n",
    "    print(confusion_matrix(ytrue,ypred))\n",
    "    print(\"the accuracy is \",accuracy_score(ytrue,ypred))\n",
    "    print(\"the precision is \",precision_score(ytrue,ypred))\n",
    "    print(\"the recall is \",recall_score(ytrue,ypred))\n",
    "    print(classification_report(ytrue, ypred))\n",
    "    return accuracy_score(ytrue,ypred), precision_score(ytrue,ypred), recall_score(ytrue,ypred)"
   ],
   "metadata": {
    "collapsed": false,
    "ExecuteTime": {
     "end_time": "2024-10-25T23:08:11.122134Z",
     "start_time": "2024-10-25T23:08:11.110639Z"
    }
   },
   "id": "d2edc3e4e6de1b68"
  },
  {
   "cell_type": "markdown",
   "source": [
    "# Loading the dataset "
   ],
   "metadata": {
    "collapsed": false
   },
   "id": "602be06bc49c38e3"
  },
  {
   "cell_type": "code",
   "execution_count": 5,
   "outputs": [
    {
     "data": {
      "text/plain": "   overall                                         reviewText\n0        4                                         No issues.\n1        5  Purchased this for my device, it worked as adv...\n2        4  it works as expected. I should have sprung for...\n3        5  This think has worked out great.Had a diff. br...\n4        5  Bought it with Retail Packaging, arrived legit...",
      "text/html": "<div>\n<style scoped>\n    .dataframe tbody tr th:only-of-type {\n        vertical-align: middle;\n    }\n\n    .dataframe tbody tr th {\n        vertical-align: top;\n    }\n\n    .dataframe thead th {\n        text-align: right;\n    }\n</style>\n<table border=\"1\" class=\"dataframe\">\n  <thead>\n    <tr style=\"text-align: right;\">\n      <th></th>\n      <th>overall</th>\n      <th>reviewText</th>\n    </tr>\n  </thead>\n  <tbody>\n    <tr>\n      <th>0</th>\n      <td>4</td>\n      <td>No issues.</td>\n    </tr>\n    <tr>\n      <th>1</th>\n      <td>5</td>\n      <td>Purchased this for my device, it worked as adv...</td>\n    </tr>\n    <tr>\n      <th>2</th>\n      <td>4</td>\n      <td>it works as expected. I should have sprung for...</td>\n    </tr>\n    <tr>\n      <th>3</th>\n      <td>5</td>\n      <td>This think has worked out great.Had a diff. br...</td>\n    </tr>\n    <tr>\n      <th>4</th>\n      <td>5</td>\n      <td>Bought it with Retail Packaging, arrived legit...</td>\n    </tr>\n  </tbody>\n</table>\n</div>"
     },
     "execution_count": 5,
     "metadata": {},
     "output_type": "execute_result"
    }
   ],
   "source": [
    "link = './dataset/amazon_reviews.csv'\n",
    "data = pd.read_csv(link)\n",
    "data.head()"
   ],
   "metadata": {
    "collapsed": false,
    "ExecuteTime": {
     "end_time": "2024-10-25T23:08:11.888813Z",
     "start_time": "2024-10-25T23:08:11.864857Z"
    }
   },
   "id": "f3ed1142f11c949b"
  },
  {
   "cell_type": "markdown",
   "source": [
    "# convert the dataset into a binary class classification"
   ],
   "metadata": {
    "collapsed": false
   },
   "id": "5f994ad305350458"
  },
  {
   "cell_type": "code",
   "execution_count": 6,
   "outputs": [
    {
     "data": {
      "text/plain": "   overall                                         reviewText\n0        1                                         No issues.\n1        1  Purchased this for my device, it worked as adv...\n2        1  it works as expected. I should have sprung for...\n3        1  This think has worked out great.Had a diff. br...\n4        1  Bought it with Retail Packaging, arrived legit...",
      "text/html": "<div>\n<style scoped>\n    .dataframe tbody tr th:only-of-type {\n        vertical-align: middle;\n    }\n\n    .dataframe tbody tr th {\n        vertical-align: top;\n    }\n\n    .dataframe thead th {\n        text-align: right;\n    }\n</style>\n<table border=\"1\" class=\"dataframe\">\n  <thead>\n    <tr style=\"text-align: right;\">\n      <th></th>\n      <th>overall</th>\n      <th>reviewText</th>\n    </tr>\n  </thead>\n  <tbody>\n    <tr>\n      <th>0</th>\n      <td>1</td>\n      <td>No issues.</td>\n    </tr>\n    <tr>\n      <th>1</th>\n      <td>1</td>\n      <td>Purchased this for my device, it worked as adv...</td>\n    </tr>\n    <tr>\n      <th>2</th>\n      <td>1</td>\n      <td>it works as expected. I should have sprung for...</td>\n    </tr>\n    <tr>\n      <th>3</th>\n      <td>1</td>\n      <td>This think has worked out great.Had a diff. br...</td>\n    </tr>\n    <tr>\n      <th>4</th>\n      <td>1</td>\n      <td>Bought it with Retail Packaging, arrived legit...</td>\n    </tr>\n  </tbody>\n</table>\n</div>"
     },
     "execution_count": 6,
     "metadata": {},
     "output_type": "execute_result"
    }
   ],
   "source": [
    "data['overall'] = data.overall.map(lambda x: 0 if x <= 3 else 1)\n",
    "data.head()"
   ],
   "metadata": {
    "collapsed": false,
    "ExecuteTime": {
     "end_time": "2024-10-25T23:08:12.691715Z",
     "start_time": "2024-10-25T23:08:12.679265Z"
    }
   },
   "id": "eb6e3546196d1da9"
  },
  {
   "cell_type": "code",
   "execution_count": 7,
   "outputs": [
    {
     "data": {
      "text/plain": "overall\n1    4449\n0     466\nName: count, dtype: int64"
     },
     "execution_count": 7,
     "metadata": {},
     "output_type": "execute_result"
    }
   ],
   "source": [
    "data.overall.value_counts()"
   ],
   "metadata": {
    "collapsed": false,
    "ExecuteTime": {
     "end_time": "2024-10-25T23:08:12.864525Z",
     "start_time": "2024-10-25T23:08:12.854038Z"
    }
   },
   "id": "febbad047051032b"
  },
  {
   "cell_type": "markdown",
   "source": [
    "# Problem solution: \n",
    "* We are going to treat this question as a binary classification, either 0 or 1 \n",
    "* all text will be converted to lower case and punctuations will be removed\n",
    "* The reviews will be tokenized. This is all done using the library packages"
   ],
   "metadata": {
    "collapsed": false
   },
   "id": "75c38d05346ed330"
  },
  {
   "cell_type": "markdown",
   "source": [
    "## Function preprocessing\n",
    "Takes in the review, converts it to lwoer case, removes punctuations, and tokenizes the words\n",
    "Returns this list "
   ],
   "metadata": {
    "collapsed": false
   },
   "id": "1d8cc8c32aad83a5"
  },
  {
   "cell_type": "code",
   "execution_count": 8,
   "outputs": [],
   "source": [
    "def preprocessing(review):\n",
    "    # convert review to lower case\n",
    "    review = str(review)\n",
    "    review = review.lower()\n",
    "\n",
    "    stop_words = set(stopwords.words('english'))\n",
    "    # remove punctuations\n",
    "    review = review.translate(str.maketrans('','', punctuation))\n",
    "\n",
    "    # remove numbers\n",
    "    review = review.translate(str.maketrans('', '', digits))\n",
    "\n",
    "\n",
    "    # tokenize \n",
    "    review = word_tokenize(review, language='english', preserve_line=False)\n",
    "\n",
    "    # remove stop words \n",
    "    review = [x for x in review if x not in stop_words]\n",
    "\n",
    "    return review\n"
   ],
   "metadata": {
    "collapsed": false,
    "ExecuteTime": {
     "end_time": "2024-10-25T23:08:13.976876Z",
     "start_time": "2024-10-25T23:08:13.963260Z"
    }
   },
   "id": "c074878eda5901f1"
  },
  {
   "cell_type": "code",
   "execution_count": 9,
   "outputs": [],
   "source": [
    "# apply function to all the reviews \n",
    "data['reviewText'] = data.reviewText.apply(preprocessing)"
   ],
   "metadata": {
    "collapsed": false,
    "ExecuteTime": {
     "end_time": "2024-10-25T23:08:15.014134Z",
     "start_time": "2024-10-25T23:08:14.396814Z"
    }
   },
   "id": "5d6b28bf96ba78ee"
  },
  {
   "cell_type": "code",
   "execution_count": 10,
   "outputs": [
    {
     "data": {
      "text/plain": "   overall                                         reviewText\n0        1                                           [issues]\n1        1  [purchased, device, worked, advertised, never,...\n2        1  [works, expected, sprung, higher, capacity, th...\n3        1  [think, worked, greathad, diff, bran, gb, card...\n4        1  [bought, retail, packaging, arrived, legit, or...",
      "text/html": "<div>\n<style scoped>\n    .dataframe tbody tr th:only-of-type {\n        vertical-align: middle;\n    }\n\n    .dataframe tbody tr th {\n        vertical-align: top;\n    }\n\n    .dataframe thead th {\n        text-align: right;\n    }\n</style>\n<table border=\"1\" class=\"dataframe\">\n  <thead>\n    <tr style=\"text-align: right;\">\n      <th></th>\n      <th>overall</th>\n      <th>reviewText</th>\n    </tr>\n  </thead>\n  <tbody>\n    <tr>\n      <th>0</th>\n      <td>1</td>\n      <td>[issues]</td>\n    </tr>\n    <tr>\n      <th>1</th>\n      <td>1</td>\n      <td>[purchased, device, worked, advertised, never,...</td>\n    </tr>\n    <tr>\n      <th>2</th>\n      <td>1</td>\n      <td>[works, expected, sprung, higher, capacity, th...</td>\n    </tr>\n    <tr>\n      <th>3</th>\n      <td>1</td>\n      <td>[think, worked, greathad, diff, bran, gb, card...</td>\n    </tr>\n    <tr>\n      <th>4</th>\n      <td>1</td>\n      <td>[bought, retail, packaging, arrived, legit, or...</td>\n    </tr>\n  </tbody>\n</table>\n</div>"
     },
     "execution_count": 10,
     "metadata": {},
     "output_type": "execute_result"
    }
   ],
   "source": [
    "data.head()"
   ],
   "metadata": {
    "collapsed": false,
    "ExecuteTime": {
     "end_time": "2024-10-25T23:08:15.019836Z",
     "start_time": "2024-10-25T23:08:15.016280Z"
    }
   },
   "id": "12c332b82526352a"
  },
  {
   "cell_type": "markdown",
   "source": [
    "# Data split\n",
    "80% train\n",
    "10% validation \n",
    "10% test"
   ],
   "metadata": {
    "collapsed": false
   },
   "id": "1348e22463ff45b"
  },
  {
   "cell_type": "code",
   "execution_count": 11,
   "outputs": [],
   "source": [
    "# splitting the dataset\n",
    "xtrain, xtest, ytrain, ytest= train_test_split(data.reviewText, data.overall, test_size=0.2)\n",
    "xtest, xval, ytest, yval = train_test_split(xtest, ytest, test_size=0.5)"
   ],
   "metadata": {
    "collapsed": false,
    "ExecuteTime": {
     "end_time": "2024-10-25T23:08:15.833106Z",
     "start_time": "2024-10-25T23:08:15.813467Z"
    }
   },
   "id": "3f0ca3f7456cfb28"
  },
  {
   "cell_type": "markdown",
   "source": [
    "# PERFORM DATA STATISTICS "
   ],
   "metadata": {
    "collapsed": false
   },
   "id": "f1dbc236966aa69b"
  },
  {
   "cell_type": "markdown",
   "source": [
    "# max,min,avg sentance length in xtrain, xtest and xval "
   ],
   "metadata": {
    "collapsed": false
   },
   "id": "2c2457a908298ad3"
  },
  {
   "cell_type": "code",
   "execution_count": 12,
   "outputs": [
    {
     "data": {
      "text/plain": "(25.03942014242116, 27.70468431771894, 25.721544715447155)"
     },
     "execution_count": 12,
     "metadata": {},
     "output_type": "execute_result"
    }
   ],
   "source": [
    "xtrain.apply(lambda x: len(x)).mean(), xtest.apply(lambda x: len(x)).mean(), xval.apply(lambda x: len(x)).mean()"
   ],
   "metadata": {
    "collapsed": false,
    "ExecuteTime": {
     "end_time": "2024-10-25T23:08:16.723023Z",
     "start_time": "2024-10-25T23:08:16.713234Z"
    }
   },
   "id": "cc0d45ad345719d8"
  },
  {
   "cell_type": "code",
   "execution_count": 13,
   "outputs": [
    {
     "data": {
      "text/plain": "(544, 781, 400)"
     },
     "execution_count": 13,
     "metadata": {},
     "output_type": "execute_result"
    }
   ],
   "source": [
    "xtrain.apply(lambda x: len(x)).max(), xtest.apply(lambda x: len(x)).max(), xval.apply(lambda x: len(x)).max()"
   ],
   "metadata": {
    "collapsed": false,
    "ExecuteTime": {
     "end_time": "2024-10-25T23:08:17.184401Z",
     "start_time": "2024-10-25T23:08:17.171419Z"
    }
   },
   "id": "a4d3e69918950351"
  },
  {
   "cell_type": "code",
   "execution_count": 14,
   "outputs": [
    {
     "data": {
      "text/plain": "(1, 1, 1)"
     },
     "execution_count": 14,
     "metadata": {},
     "output_type": "execute_result"
    }
   ],
   "source": [
    "xtrain.apply(lambda x: len(x)).min(), xtest.apply(lambda x: len(x)).min(), xval.apply(lambda x: len(x)).min()"
   ],
   "metadata": {
    "collapsed": false,
    "ExecuteTime": {
     "end_time": "2024-10-25T23:08:17.596305Z",
     "start_time": "2024-10-25T23:08:17.588587Z"
    }
   },
   "id": "65f0045164fec9f1"
  },
  {
   "cell_type": "markdown",
   "source": [
    "## number of training samples vs test and validation"
   ],
   "metadata": {
    "collapsed": false
   },
   "id": "5d17a41b986037fd"
  },
  {
   "cell_type": "code",
   "execution_count": 15,
   "outputs": [
    {
     "data": {
      "text/plain": "<Figure size 640x480 with 1 Axes>",
      "image/png": "[encoded data removed]"
     },
     "metadata": {},
     "output_type": "display_data"
    }
   ],
   "source": [
    "train_size, test_size, val_size = xtrain.shape[0], xtest.shape[0], xval.shape[0]\n",
    "\n",
    "\n",
    "plt.bar(['Train', 'Validation', 'Test'], [train_size, val_size, test_size], color=['blue', 'orange', 'green'])\n",
    "plt.title('Number of samples')\n",
    "plt.ylabel('Number of samples')\n",
    "plt.show()"
   ],
   "metadata": {
    "collapsed": false,
    "ExecuteTime": {
     "end_time": "2024-10-25T23:08:18.606420Z",
     "start_time": "2024-10-25T23:08:18.500480Z"
    }
   },
   "id": "b55e4d5bd83c8b01"
  },
  {
   "cell_type": "code",
   "execution_count": 16,
   "outputs": [],
   "source": [
    "max_tokens = []\n",
    "min_tokens = []\n",
    "avg_tokens = []\n",
    "for i in range(2):\n",
    "    lyst = data[data.overall == i].reviewText.apply(len)\n",
    "    max_tokens.append(lyst.max())\n",
    "    min_tokens.append(lyst.min())\n",
    "    avg_tokens.append(lyst.mean())"
   ],
   "metadata": {
    "collapsed": false,
    "ExecuteTime": {
     "end_time": "2024-10-25T23:08:19.312483Z",
     "start_time": "2024-10-25T23:08:19.304763Z"
    }
   },
   "id": "1d4917817c1814fd"
  },
  {
   "cell_type": "code",
   "execution_count": 17,
   "outputs": [
    {
     "data": {
      "text/plain": "<Figure size 640x480 with 1 Axes>",
      "image/png": "[encoded data removed]"
     },
     "metadata": {},
     "output_type": "display_data"
    }
   ],
   "source": [
    "plt.bar(range(2), max_tokens, color=['blue', 'orange'])\n",
    "plt.title('Max number of tokens for each target')\n",
    "plt.ylabel('max number of tokens')\n",
    "plt.xlabel('Target value')\n",
    "plt.show()"
   ],
   "metadata": {
    "collapsed": false,
    "ExecuteTime": {
     "end_time": "2024-10-25T23:08:20.053994Z",
     "start_time": "2024-10-25T23:08:19.997233Z"
    }
   },
   "id": "96d964fefafe22b4"
  },
  {
   "cell_type": "code",
   "execution_count": 18,
   "outputs": [
    {
     "data": {
      "text/plain": "<Figure size 640x480 with 1 Axes>",
      "image/png": "[encoded data removed]"
     },
     "metadata": {},
     "output_type": "display_data"
    }
   ],
   "source": [
    "plt.bar(range(2), min_tokens, color=['blue', 'orange'])\n",
    "plt.title('Min number of tokens for each target')\n",
    "plt.ylabel('min number of tokens')\n",
    "plt.xlabel('Target value')\n",
    "plt.show()"
   ],
   "metadata": {
    "collapsed": false,
    "ExecuteTime": {
     "end_time": "2024-10-25T23:08:20.621443Z",
     "start_time": "2024-10-25T23:08:20.573485Z"
    }
   },
   "id": "f25bde7449c68dd6"
  },
  {
   "cell_type": "code",
   "execution_count": 19,
   "outputs": [
    {
     "data": {
      "text/plain": "<Figure size 640x480 with 1 Axes>",
      "image/png": "[encoded data removed]"
     },
     "metadata": {},
     "output_type": "display_data"
    }
   ],
   "source": [
    "plt.bar(range(2), avg_tokens, color=['blue', 'orange'])\n",
    "plt.title('average number of tokens for each target')\n",
    "plt.ylabel('average number of tokens')\n",
    "plt.xlabel('Target value')\n",
    "plt.show()"
   ],
   "metadata": {
    "collapsed": false,
    "ExecuteTime": {
     "end_time": "2024-10-25T23:08:21.130310Z",
     "start_time": "2024-10-25T23:08:21.089740Z"
    }
   },
   "id": "b7d3f5755a9dd581"
  },
  {
   "cell_type": "markdown",
   "source": [
    "## Number of samples in each target value {from 0 - 1} "
   ],
   "metadata": {
    "collapsed": false
   },
   "id": "ddc46f88ff7ef08c"
  },
  {
   "cell_type": "code",
   "execution_count": 20,
   "outputs": [
    {
     "data": {
      "text/plain": "<Figure size 640x480 with 1 Axes>",
      "image/png": "[encoded data removed]"
     },
     "metadata": {},
     "output_type": "display_data"
    }
   ],
   "source": [
    "len_of_target = []\n",
    "for i in range(2):\n",
    "    len_of_target.append(data[data.overall == i].shape[0])\n",
    "\n",
    "# plotting\n",
    "plt.bar(range(2), len_of_target, color=['blue', 'orange'])\n",
    "plt.title('Number of samples in each target point')\n",
    "plt.ylabel('Number')\n",
    "plt.xlabel('Target value')\n",
    "plt.show()"
   ],
   "metadata": {
    "collapsed": false,
    "ExecuteTime": {
     "end_time": "2024-10-25T23:08:22.316979Z",
     "start_time": "2024-10-25T23:08:22.264350Z"
    }
   },
   "id": "88a1af8189d12451"
  },
  {
   "cell_type": "markdown",
   "source": [
    "# UNDERSTANDING OF THIS ANALYSIS \n",
    "* Poeple who are dissatisifed are the most vocal becasue the max, min and avergae number of tokens for the lower ratings is pretty high\n",
    "* BIG ISSUE: the number of positive ratings are much higher than the number of negative ratings, whihc means that the model will be biased towards a positive response  \n",
    "* The best way to solve this is to get more data or reduce the number of datapoints for 5, but as this is an NLP assignment im not going to do that \n",
    "* The precision recall of the negative class will be very low   "
   ],
   "metadata": {
    "collapsed": false
   },
   "id": "9712594878f35daa"
  },
  {
   "cell_type": "markdown",
   "source": [
    "# Representation of text"
   ],
   "metadata": {
    "collapsed": false
   },
   "id": "34f2377be4fe94e4"
  },
  {
   "cell_type": "code",
   "execution_count": 21,
   "outputs": [],
   "source": [
    "class customTokenizer(): \n",
    "    def __init__(self, xtrain, pad_length = 200):\n",
    "        self.pad_length = pad_length\n",
    "        self.corpus_words = []\n",
    "        self.word2ind = {}\n",
    "        self.get_vocab(xtrain)\n",
    "        \n",
    "\n",
    "    def tokenize(self, sentance):\n",
    "        tokens = []\n",
    "        for word in sentance:\n",
    "            if word in self.word2ind:\n",
    "                tokens.append(self.word2ind[word])\n",
    "            else:\n",
    "                tokens.append(self.word2ind['<UNK>'])\n",
    "        return tokens\n",
    "\n",
    "    def pad_sequence(self, tokens):\n",
    "        if len(tokens) > self.pad_length:\n",
    "            tokens = tokens[:self.pad_length]\n",
    "        else:\n",
    "            tokens += [self.word2ind['<PAD>']] * (self.pad_length - len(tokens))\n",
    "        return tokens\n",
    "    \n",
    "    # sentances is a dataframe \n",
    "    def transform(self, dataframe):\n",
    "        dataframe = dataframe.apply(self.tokenize)\n",
    "        dataframe = dataframe.apply(self.pad_sequence)\n",
    "        return np.array(dataframe.tolist())\n",
    "\n",
    "    def get_vocab(self, corpus):\n",
    "        self.corpus_words = set([x for sentance in corpus for x in sentance])\n",
    "        self.corpus_words = sorted(self.corpus_words)\n",
    "        self.word2ind = {key:value for value, key in enumerate(self.corpus_words)}\n",
    "        self.word2ind['<PAD>'] = len(self.corpus_words)\n",
    "        self.word2ind['<UNK>'] = len(self.corpus_words) + 1\n",
    "        \n",
    "        "
   ],
   "metadata": {
    "collapsed": false,
    "ExecuteTime": {
     "end_time": "2024-10-25T23:08:24.859190Z",
     "start_time": "2024-10-25T23:08:24.846581Z"
    }
   },
   "id": "580781269ae052d3"
  },
  {
   "cell_type": "code",
   "execution_count": 22,
   "outputs": [],
   "source": [
    "tokenizer = customTokenizer(xtrain, pad_length=100)"
   ],
   "metadata": {
    "collapsed": false,
    "ExecuteTime": {
     "end_time": "2024-10-25T23:08:25.462901Z",
     "start_time": "2024-10-25T23:08:25.457304Z"
    }
   },
   "id": "c613f9149d6e9fa8"
  },
  {
   "cell_type": "code",
   "execution_count": 23,
   "outputs": [],
   "source": [
    "xtrain = tokenizer.transform(xtrain)\n",
    "xtest = tokenizer.transform(xtest)\n",
    "xval = tokenizer.transform(xval)"
   ],
   "metadata": {
    "collapsed": false,
    "ExecuteTime": {
     "end_time": "2024-10-25T23:08:26.035966Z",
     "start_time": "2024-10-25T23:08:26.009183Z"
    }
   },
   "id": "6981e62444dce902"
  },
  {
   "cell_type": "markdown",
   "source": [
    "### Convert the np matrix into a torch tensor"
   ],
   "metadata": {
    "collapsed": false
   },
   "id": "e3948e5e15a8e04b"
  },
  {
   "cell_type": "code",
   "execution_count": 24,
   "outputs": [],
   "source": [
    "ytrain = pd.get_dummies(ytrain).to_numpy().astype(int)\n",
    "ytest = pd.get_dummies(ytest).to_numpy().astype(int)\n",
    "yval = pd.get_dummies(yval).to_numpy().astype(int)"
   ],
   "metadata": {
    "collapsed": false,
    "ExecuteTime": {
     "end_time": "2024-10-25T23:08:26.670170Z",
     "start_time": "2024-10-25T23:08:26.651980Z"
    }
   },
   "id": "e319b4974cd5727b"
  },
  {
   "cell_type": "code",
   "execution_count": 25,
   "outputs": [],
   "source": [
    "ytrain = torch.from_numpy(ytrain).to(device=device).float()\n",
    "yval = torch.from_numpy(yval).to(device=device).float()\n",
    "ytest = torch.from_numpy(ytest).to(device=device).float()"
   ],
   "metadata": {
    "collapsed": false,
    "ExecuteTime": {
     "end_time": "2024-10-25T23:08:27.150999Z",
     "start_time": "2024-10-25T23:08:27.141441Z"
    }
   },
   "id": "115600396c89a35b"
  },
  {
   "cell_type": "code",
   "execution_count": 26,
   "outputs": [],
   "source": [
    "xtrain = torch.from_numpy(xtrain).to(device=device)\n",
    "xtest = torch.from_numpy(xtest).to(device=device)\n",
    "xval = torch.from_numpy(xval).to(device=device)"
   ],
   "metadata": {
    "collapsed": false,
    "ExecuteTime": {
     "end_time": "2024-10-25T23:08:28.930357Z",
     "start_time": "2024-10-25T23:08:28.927463Z"
    }
   },
   "id": "ce71eef48d661ef0"
  },
  {
   "cell_type": "markdown",
   "source": [
    "# data loader for x train "
   ],
   "metadata": {
    "collapsed": false
   },
   "id": "7676417dc6315955"
  },
  {
   "cell_type": "code",
   "execution_count": 27,
   "outputs": [],
   "source": [
    "batch_size= 32\n",
    "training_loader = DataLoader(TensorDataset(xtrain, ytrain), shuffle=False, batch_size=batch_size)"
   ],
   "metadata": {
    "collapsed": false,
    "ExecuteTime": {
     "end_time": "2024-10-25T23:08:30.309103Z",
     "start_time": "2024-10-25T23:08:30.301593Z"
    }
   },
   "id": "33c4b3a7cb3531a4"
  },
  {
   "cell_type": "markdown",
   "source": [
    "# Creating the LSTM \n",
    "For this assignment we are creating a bidirectional LSTM  "
   ],
   "metadata": {
    "collapsed": false
   },
   "id": "8140de53c0c6e9"
  },
  {
   "cell_type": "code",
   "execution_count": 28,
   "outputs": [],
   "source": [
    "class LSTM(torch.nn.Module): \n",
    "    def __init__(self, vocab_size, embed_size, hidden_dim= 30, output_dim = 2):\n",
    "        super().__init__()\n",
    "        self.embedding = torch.nn.Embedding(vocab_size, embedding_dim=embed_size)\n",
    "        self.lstm = torch.nn.LSTM(\n",
    "            input_size=embed_size, \n",
    "            hidden_size=hidden_dim,\n",
    "            num_layers= 2, \n",
    "            dropout= 0.1,\n",
    "            batch_first=True,\n",
    "            bidirectional=True, \n",
    "        )\n",
    "        \n",
    "        self.fully_connected_layer = torch.nn.Sequential(\n",
    "            torch.nn.Linear(hidden_dim*2, output_dim),\n",
    "            torch.nn.Sigmoid(),\n",
    "        )\n",
    "        \n",
    "    def forward(self, x):\n",
    "        embedding_values = self.embedding(x)\n",
    "        output, (hidden_states, cell_states) = self.lstm(embedding_values) # last hidden state\n",
    "        lstm_output = torch.cat((hidden_states[-2,:,:], hidden_states[-1,:,:]), dim=1)\n",
    "        output = self.fully_connected_layer(lstm_output)\n",
    "        \n",
    "        return output \n",
    "    \n",
    "    "
   ],
   "metadata": {
    "collapsed": false,
    "ExecuteTime": {
     "end_time": "2024-10-25T23:08:33.940489Z",
     "start_time": "2024-10-25T23:08:33.922847Z"
    }
   },
   "id": "e90a5a437ab3353d"
  },
  {
   "cell_type": "code",
   "execution_count": 29,
   "outputs": [],
   "source": [
    "lstmModel = LSTM(len(tokenizer.corpus_words), embed_size=128, hidden_dim=30, output_dim=2).to(device=device)"
   ],
   "metadata": {
    "collapsed": false,
    "ExecuteTime": {
     "end_time": "2024-10-25T23:08:35.145690Z",
     "start_time": "2024-10-25T23:08:35.119263Z"
    }
   },
   "id": "f4ea907b8c524d0f"
  },
  {
   "cell_type": "code",
   "execution_count": 30,
   "outputs": [
    {
     "data": {
      "text/plain": "LSTM(\n  (embedding): Embedding(8468, 128)\n  (lstm): LSTM(128, 30, num_layers=2, batch_first=True, dropout=0.1, bidirectional=True)\n  (fully_connected_layer): Sequential(\n    (0): Linear(in_features=60, out_features=2, bias=True)\n    (1): Sigmoid()\n  )\n)"
     },
     "execution_count": 30,
     "metadata": {},
     "output_type": "execute_result"
    }
   ],
   "source": [
    "lstmModel"
   ],
   "metadata": {
    "collapsed": false,
    "ExecuteTime": {
     "end_time": "2024-10-25T23:08:35.823654Z",
     "start_time": "2024-10-25T23:08:35.820987Z"
    }
   },
   "id": "b24b214ebedcbcf4"
  },
  {
   "cell_type": "markdown",
   "source": [
    "# training LSTM"
   ],
   "metadata": {
    "collapsed": false
   },
   "id": "c269f237099d8367"
  },
  {
   "cell_type": "code",
   "execution_count": 31,
   "outputs": [],
   "source": [
    "# defining model parameters \n",
    "BinaryLoss = torch.nn.BCEWithLogitsLoss()\n",
    "lr = 1E-3\n",
    "opt = torch.optim.SGD(lstmModel.parameters(), lr = lr)"
   ],
   "metadata": {
    "collapsed": false,
    "ExecuteTime": {
     "end_time": "2024-10-25T23:08:38.313983Z",
     "start_time": "2024-10-25T23:08:37.848900Z"
    }
   },
   "id": "855fe0e0f8b69f2a"
  },
  {
   "cell_type": "code",
   "execution_count": 43,
   "outputs": [
    {
     "name": "stdout",
     "output_type": "stream",
     "text": [
      "epoch [1/10]\n",
      "        \t training loss: 0.7115867137908936,\n",
      "        \t validation loss: 0.7076758146286011,\n",
      "        \t Training Acc: 0.872692883014679,\n",
      "        \t Val acc: 0.8963414430618286,\n",
      "            \n",
      "epoch [2/10]\n",
      "        \t training loss: 0.710177481174469,\n",
      "        \t validation loss: 0.7062485218048096,\n",
      "        \t Training Acc: 0.883628785610199,\n",
      "        \t Val acc: 0.8983739614486694,\n",
      "            \n",
      "epoch [3/10]\n",
      "        \t training loss: 0.7087730765342712,\n",
      "        \t validation loss: 0.7048265337944031,\n",
      "        \t Training Acc: 0.8904955387115479,\n",
      "        \t Val acc: 0.8983739614486694,\n",
      "            \n",
      "epoch [4/10]\n",
      "        \t training loss: 0.7073735594749451,\n",
      "        \t validation loss: 0.7034097909927368,\n",
      "        \t Training Acc: 0.8966357111930847,\n",
      "        \t Val acc: 0.9024389982223511,\n",
      "            \n",
      "epoch [5/10]\n",
      "        \t training loss: 0.7059791684150696,\n",
      "        \t validation loss: 0.7019986510276794,\n",
      "        \t Training Acc: 0.9001961946487427,\n",
      "        \t Val acc: 0.9004064798355103,\n",
      "            \n",
      "epoch [6/10]\n",
      "        \t training loss: 0.7045899033546448,\n",
      "        \t validation loss: 0.7005929946899414,\n",
      "        \t Training Acc: 0.9017584919929504,\n",
      "        \t Val acc: 0.9024389982223511,\n",
      "            \n",
      "epoch [7/10]\n",
      "        \t training loss: 0.703205943107605,\n",
      "        \t validation loss: 0.6991931200027466,\n",
      "        \t Training Acc: 0.9035387635231018,\n",
      "        \t Val acc: 0.9024389982223511,\n",
      "            \n",
      "epoch [8/10]\n",
      "        \t training loss: 0.7018272876739502,\n",
      "        \t validation loss: 0.697799026966095,\n",
      "        \t Training Acc: 0.9045197367668152,\n",
      "        \t Val acc: 0.9024389982223511,\n",
      "            \n",
      "epoch [9/10]\n",
      "        \t training loss: 0.70045405626297,\n",
      "        \t validation loss: 0.6964107155799866,\n",
      "        \t Training Acc: 0.9050283432006836,\n",
      "        \t Val acc: 0.9024389982223511,\n",
      "            \n",
      "epoch [10/10]\n",
      "        \t training loss: 0.6990864276885986,\n",
      "        \t validation loss: 0.6950283646583557,\n",
      "        \t Training Acc: 0.9055370092391968,\n",
      "        \t Val acc: 0.9024389982223511,\n",
      "            \n"
     ]
    }
   ],
   "source": [
    "epochs = 10\n",
    "validation_loss_list = []\n",
    "training_loss_list = []\n",
    "\n",
    "for epoch in range(epochs):\n",
    "    runningLoss = 0\n",
    "    trueTrainingPreds = 0\n",
    "    for idx, data in enumerate(training_loader): \n",
    "        inputs, labels = data\n",
    "        opt.zero_grad()\n",
    "        outputs = lstmModel(inputs)\n",
    "        # loss calculation \n",
    "        loss = BinaryLoss(outputs, labels)\n",
    "        \n",
    "        runningLoss += loss.item()/len(training_loader)\n",
    "        \n",
    "        # back propagation \n",
    "        loss.backward()\n",
    "        opt.step()\n",
    "        \n",
    "        trueTrainingPreds += batch_size * accuracy(torch.argmax(outputs, axis=1), torch.argmax(labels, axis=1))\n",
    "        \n",
    "    \n",
    "    # validation set \n",
    "    val_outputs = lstmModel(xval)\n",
    "    val_loss = BinaryLoss(val_outputs, yval).detach()\n",
    "    val_accuracy = accuracy(torch.argmax(val_outputs, axis=1), torch.argmax(yval, axis=1))\n",
    "    validation_loss_list.append(val_loss.detach().cpu())\n",
    "    \n",
    "    # training metrics \n",
    "    training_loss_list.append(runningLoss)\n",
    "    trainingAcc = trueTrainingPreds / xtrain.shape[0]\n",
    "    \n",
    "    \n",
    "    # printing the metrics \n",
    "    print(f'''epoch [{epoch+1}/{epochs}]\n",
    "        \\t training loss: {loss},\n",
    "        \\t validation loss: {val_loss},\n",
    "        \\t Training Acc: {trainingAcc},\n",
    "        \\t Val acc: {val_accuracy},\n",
    "            ''')\n",
    "    \n",
    "    \n",
    "        "
   ],
   "metadata": {
    "collapsed": false,
    "ExecuteTime": {
     "end_time": "2024-10-25T23:13:55.544165Z",
     "start_time": "2024-10-25T23:13:27.394980Z"
    }
   },
   "id": "d53f3d9c084a78f1"
  },
  {
   "cell_type": "code",
   "execution_count": 44,
   "outputs": [
    {
     "name": "stdout",
     "output_type": "stream",
     "text": [
      "[[  0  49]\n",
      " [  2 440]]\n",
      "the accuracy is  0.8961303462321792\n",
      "the precision is  0.8997955010224948\n",
      "the recall is  0.995475113122172\n",
      "              precision    recall  f1-score   support\n",
      "\n",
      "           0       0.00      0.00      0.00        49\n",
      "           1       0.90      1.00      0.95       442\n",
      "\n",
      "    accuracy                           0.90       491\n",
      "   macro avg       0.45      0.50      0.47       491\n",
      "weighted avg       0.81      0.90      0.85       491\n"
     ]
    },
    {
     "data": {
      "text/plain": "(0.8961303462321792, 0.8997955010224948, 0.995475113122172)"
     },
     "execution_count": 44,
     "metadata": {},
     "output_type": "execute_result"
    }
   ],
   "source": [
    "ypred = lstmModel(xtest)\n",
    "ypred = torch.argmax(ypred, axis=1).cpu()\n",
    "metric_analysis(torch.argmax(ytest, axis=1).cpu(), ypred)"
   ],
   "metadata": {
    "collapsed": false,
    "ExecuteTime": {
     "end_time": "2024-10-25T23:13:55.568362Z",
     "start_time": "2024-10-25T23:13:55.544724Z"
    }
   },
   "id": "b7cea2712fadac3c"
  },
  {
   "cell_type": "code",
   "execution_count": 45,
   "outputs": [
    {
     "data": {
      "text/plain": "<Figure size 640x480 with 1 Axes>",
      "image/png": "[encoded data removed]"
     },
     "metadata": {},
     "output_type": "display_data"
    }
   ],
   "source": [
    "def plot_loss(epochs, all_training_loss, all_val_loss):    \n",
    "    %matplotlib inline\n",
    "    epochs = range(epochs)\n",
    "    plt.plot(epochs, all_training_loss, 'bo', label='Training Loss')\n",
    "    plt.plot(epochs, all_val_loss, 'r', label='Validation Loss')\n",
    "    plt.xlabel('Epochs')\n",
    "    plt.ylabel('Loss')\n",
    "    plt.legend()\n",
    "    plt.show()\n",
    "\n",
    "plot_loss(epochs, training_loss_list, validation_loss_list)"
   ],
   "metadata": {
    "collapsed": false,
    "ExecuteTime": {
     "end_time": "2024-10-25T23:13:55.617322Z",
     "start_time": "2024-10-25T23:13:55.569989Z"
    }
   },
   "id": "d788ca6e216d8d21"
  },
  {
   "cell_type": "markdown",
   "source": [
    "# CNN FOR NLP "
   ],
   "metadata": {
    "collapsed": false
   },
   "id": "9dd3f3fca995a300"
  },
  {
   "cell_type": "markdown",
   "source": [
    "## data preprocessing "
   ],
   "metadata": {
    "collapsed": false
   },
   "id": "cc0f50f1c4a697eb"
  },
  {
   "cell_type": "code",
   "execution_count": 46,
   "outputs": [
    {
     "name": "stdout",
     "output_type": "stream",
     "text": [
      "Loaded vocab size 400000\n"
     ]
    }
   ],
   "source": [
    "def load_embedding_model():\n",
    "    \"\"\" Load GloVe Vectors\n",
    "    Return:\n",
    "    wv_from_bin: All 400000 embeddings, each lengh 200\n",
    "    \"\"\"\n",
    "    wv_from_bin = api.load(\"glove-wiki-gigaword-200\")\n",
    "    print(\"Loaded vocab size %i\" % len(list(wv_from_bin.index_to_key)))\n",
    "    return wv_from_bin\n",
    "\n",
    "wv_from_bin = load_embedding_model()"
   ],
   "metadata": {
    "collapsed": false,
    "ExecuteTime": {
     "end_time": "2024-10-25T23:14:37.933935Z",
     "start_time": "2024-10-25T23:14:17.199486Z"
    }
   },
   "id": "403613dfb97777ad"
  },
  {
   "cell_type": "code",
   "execution_count": 47,
   "outputs": [
    {
     "name": "stdout",
     "output_type": "stream",
     "text": [
      "Shuffling words ...\n",
      "Done.\n"
     ]
    }
   ],
   "source": [
    "def get_matrix_of_vectors(wv_from_bin, required_words):\n",
    "    \"\"\" Put the GloVe vectors into a matrix M.\n",
    "    Param:\n",
    "    wv_from_bin: KeyedVectors object; the 400000 GloVe vectors loaded from file\n",
    "    Return:\n",
    "    M: numpy matrix shape (num words, 200) containing the vectors\n",
    "    word2ind: dictionary mapping each word to its row number in M\n",
    "    \"\"\"\n",
    "    import random\n",
    "    words = list(wv_from_bin.index_to_key)\n",
    "    print(\"Shuffling words ...\")\n",
    "    random.seed(225)\n",
    "    random.shuffle(words)\n",
    "    word2ind = {}\n",
    "    M = []\n",
    "    curInd = 0\n",
    "    for w in words:\n",
    "        try:\n",
    "            M.append(wv_from_bin.get_vector(w))\n",
    "            word2ind[w] = curInd\n",
    "            curInd += 1\n",
    "        except KeyError:\n",
    "            continue\n",
    "    for w in required_words:\n",
    "        if w in words:\n",
    "            continue\n",
    "        try:\n",
    "            M.append(wv_from_bin.get_vector(w))\n",
    "            word2ind[w] = curInd\n",
    "            curInd += 1\n",
    "        except KeyError:\n",
    "            continue\n",
    "    M = np.stack(M)\n",
    "    print(\"Done.\")\n",
    "    return M, word2ind\n",
    "\n",
    "mat_glove, word2ind_glove = get_matrix_of_vectors(wv_from_bin, tokenizer.corpus_words)"
   ],
   "metadata": {
    "collapsed": false,
    "ExecuteTime": {
     "end_time": "2024-10-25T23:15:14.054471Z",
     "start_time": "2024-10-25T23:14:37.956699Z"
    }
   },
   "id": "8fc3344dbf34086b"
  },
  {
   "cell_type": "markdown",
   "source": [
    "# convert mat_glove to tensor "
   ],
   "metadata": {
    "collapsed": false
   },
   "id": "7485219bc7692747"
  },
  {
   "cell_type": "code",
   "execution_count": 48,
   "outputs": [],
   "source": [
    "mat_glove = torch.from_numpy(mat_glove).to(device=device)"
   ],
   "metadata": {
    "collapsed": false,
    "ExecuteTime": {
     "end_time": "2024-10-25T23:15:14.095580Z",
     "start_time": "2024-10-25T23:15:14.054579Z"
    }
   },
   "id": "e715f767aba47e9f"
  },
  {
   "cell_type": "code",
   "execution_count": 49,
   "outputs": [
    {
     "data": {
      "text/plain": "torch.Size([400000, 200])"
     },
     "execution_count": 49,
     "metadata": {},
     "output_type": "execute_result"
    }
   ],
   "source": [
    "mat_glove.shape"
   ],
   "metadata": {
    "collapsed": false,
    "ExecuteTime": {
     "end_time": "2024-10-25T23:15:14.099001Z",
     "start_time": "2024-10-25T23:15:14.096268Z"
    }
   },
   "id": "5a42356b1a0e2ddd"
  },
  {
   "cell_type": "code",
   "execution_count": 69,
   "outputs": [],
   "source": [
    "class CNN_for_NLP(torch.nn.Module):\n",
    "    def __init__(self, embed_dim, sequence_length, embedding_matrix, filter_count = 30, kernel_size = 3, max_pool_kernel_size= 2):\n",
    "        super().__init__()\n",
    "        self.embedding = torch.nn.Embedding.from_pretrained(embedding_matrix)\n",
    "        \n",
    "        self.max_pool_kernel_size = max_pool_kernel_size\n",
    "        \n",
    "        self.fc_in_features = (sequence_length - kernel_size + 1 ) // self.max_pool_kernel_size\n",
    "        \n",
    "        # self.embedding = torch.nn.Embedding(vocab_size, embedding_dim=embed_dim)\n",
    "        self.conv = torch.nn.Sequential(\n",
    "            torch.nn.Conv2d(\n",
    "                in_channels = 1, # FIX \n",
    "                out_channels = filter_count, \n",
    "                kernel_size=(kernel_size, embed_dim), \n",
    "            ),\n",
    "            torch.nn.ReLU(),\n",
    "        )\n",
    "        \n",
    "        self.fully_connected = torch.nn.Sequential(\n",
    "            torch.nn.Linear(\n",
    "                in_features= filter_count * self.fc_in_features, # FIX\n",
    "                out_features=2, \n",
    "            ),\n",
    "            torch.nn.Sigmoid(),\n",
    "        )\n",
    "    \n",
    "    def forward(self, x):\n",
    "        emb = self.embedding(x).unsqueeze(1)\n",
    "        conv_output = self.conv(emb).squeeze(3)\n",
    "        conv_output = torch.nn.functional.max_pool1d(conv_output, kernel_size= self.max_pool_kernel_size).squeeze(2)\n",
    "        conv_output = conv_output.flatten(start_dim=1)\n",
    "        output = self.fully_connected(conv_output)\n",
    "        return output    \n",
    "    "
   ],
   "metadata": {
    "collapsed": false,
    "ExecuteTime": {
     "end_time": "2024-10-25T23:18:17.944226Z",
     "start_time": "2024-10-25T23:18:17.938100Z"
    }
   },
   "id": "a0a7a8d74f2453f6"
  },
  {
   "cell_type": "code",
   "execution_count": 70,
   "outputs": [],
   "source": [
    "cnn = CNN_for_NLP(200, len(xtrain[0]), mat_glove).to(device=device)"
   ],
   "metadata": {
    "collapsed": false,
    "ExecuteTime": {
     "end_time": "2024-10-25T23:18:18.973941Z",
     "start_time": "2024-10-25T23:18:18.970568Z"
    }
   },
   "id": "ea4ae33ca7488f63"
  },
  {
   "cell_type": "code",
   "execution_count": 71,
   "outputs": [
    {
     "data": {
      "text/plain": "CNN_for_NLP(\n  (embedding): Embedding(400000, 200)\n  (conv): Sequential(\n    (0): Conv2d(1, 30, kernel_size=(3, 200), stride=(1, 1))\n    (1): ReLU()\n  )\n  (fully_connected): Sequential(\n    (0): Linear(in_features=1470, out_features=2, bias=True)\n    (1): Sigmoid()\n  )\n)"
     },
     "execution_count": 71,
     "metadata": {},
     "output_type": "execute_result"
    }
   ],
   "source": [
    "cnn"
   ],
   "metadata": {
    "collapsed": false,
    "ExecuteTime": {
     "end_time": "2024-10-25T23:18:18.977149Z",
     "start_time": "2024-10-25T23:18:18.974499Z"
    }
   },
   "id": "5f12ea97a0c5a174"
  },
  {
   "cell_type": "code",
   "execution_count": 72,
   "outputs": [],
   "source": [
    "BinaryLoss = torch.nn.BCELoss()\n",
    "opt = torch.optim.Adam(lr=0.001, params=cnn.parameters())"
   ],
   "metadata": {
    "collapsed": false,
    "ExecuteTime": {
     "end_time": "2024-10-25T23:18:18.978966Z",
     "start_time": "2024-10-25T23:18:18.977063Z"
    }
   },
   "id": "1efdbb11b4b17048"
  },
  {
   "cell_type": "markdown",
   "source": [
    "## training the CNN model "
   ],
   "metadata": {
    "collapsed": false
   },
   "id": "58bf2eeb6ee8be7a"
  },
  {
   "cell_type": "code",
   "execution_count": 73,
   "outputs": [
    {
     "name": "stdout",
     "output_type": "stream",
     "text": [
      "epoch [1/10]\n",
      "        \t training loss: 0.196322962641716,\n",
      "        \t validation loss: 0.2688438296318054,\n",
      "        \t Val acc: 0.9024389982223511,\n",
      "            \n",
      "epoch [2/10]\n",
      "        \t training loss: 0.19829818606376648,\n",
      "        \t validation loss: 0.26209041476249695,\n",
      "        \t Val acc: 0.9024389982223511,\n",
      "            \n",
      "epoch [3/10]\n",
      "        \t training loss: 0.12996971607208252,\n",
      "        \t validation loss: 0.249859020113945,\n",
      "        \t Val acc: 0.9024389982223511,\n",
      "            \n",
      "epoch [4/10]\n",
      "        \t training loss: 0.07993578910827637,\n",
      "        \t validation loss: 0.2459295243024826,\n",
      "        \t Val acc: 0.9065040946006775,\n",
      "            \n",
      "epoch [5/10]\n",
      "        \t training loss: 0.05426225811243057,\n",
      "        \t validation loss: 0.2594793438911438,\n",
      "        \t Val acc: 0.9065040946006775,\n",
      "            \n",
      "epoch [6/10]\n",
      "        \t training loss: 0.04875423386693001,\n",
      "        \t validation loss: 0.26276934146881104,\n",
      "        \t Val acc: 0.9186992049217224,\n",
      "            \n",
      "epoch [7/10]\n",
      "        \t training loss: 0.054904788732528687,\n",
      "        \t validation loss: 0.25791317224502563,\n",
      "        \t Val acc: 0.9207317233085632,\n",
      "            \n",
      "epoch [8/10]\n",
      "        \t training loss: 0.04451226443052292,\n",
      "        \t validation loss: 0.2562665343284607,\n",
      "        \t Val acc: 0.922764241695404,\n",
      "            \n",
      "epoch [9/10]\n",
      "        \t training loss: 0.013565566390752792,\n",
      "        \t validation loss: 0.3112431466579437,\n",
      "        \t Val acc: 0.9247967600822449,\n",
      "            \n",
      "epoch [10/10]\n",
      "        \t training loss: 0.008323783054947853,\n",
      "        \t validation loss: 0.44429412484169006,\n",
      "        \t Val acc: 0.9065040946006775,\n",
      "            \n"
     ]
    }
   ],
   "source": [
    "epochs = 10\n",
    "validation_loss_list = []\n",
    "training_loss_list = []\n",
    "\n",
    "for epoch in range(epochs):\n",
    "    runningLoss = 0\n",
    "    trueTrainingPreds = 0\n",
    "    for idx, data in enumerate(training_loader): \n",
    "        inputs, labels = data\n",
    "        opt.zero_grad()\n",
    "        outputs = cnn(inputs)\n",
    "        \n",
    "        loss = BinaryLoss(outputs, labels)\n",
    "        runningLoss += loss.detach() / batch_size\n",
    "        \n",
    "        trueTrainingPreds += batch_size * accuracy(torch.argmax(outputs, axis=1), torch.argmax(labels, axis=1))\n",
    "        \n",
    "        loss.backward()\n",
    "        opt.step()\n",
    "        \n",
    "    # validation set\n",
    "    val_outputs = cnn(xval)\n",
    "    val_loss = BinaryLoss(val_outputs, yval)\n",
    "    val_accuracy = accuracy(torch.argmax(val_outputs, axis=1), torch.argmax(yval, axis=1))\n",
    "    validation_loss_list.append(val_loss.detach().cpu())\n",
    "    \n",
    "    # training metrics\n",
    "    training_loss_list.append(runningLoss.cpu())\n",
    "    training_accuracy = trueTrainingPreds / xtrain.shape[0]\n",
    "    \n",
    "    \n",
    "    # printing the epoch related metrics\n",
    "    print(f'''epoch [{epoch+1}/{epochs}]\n",
    "        \\t training loss: {loss},\n",
    "        \\t validation loss: {val_loss},\n",
    "        \\t Val acc: {val_accuracy},\n",
    "            ''')\n",
    "    \n",
    "    \n",
    "        \n",
    "        "
   ],
   "metadata": {
    "collapsed": false,
    "ExecuteTime": {
     "end_time": "2024-10-25T23:18:31.664902Z",
     "start_time": "2024-10-25T23:18:20.013419Z"
    }
   },
   "id": "7958784fab4aef2b"
  },
  {
   "cell_type": "code",
   "execution_count": 74,
   "outputs": [
    {
     "name": "stdout",
     "output_type": "stream",
     "text": [
      "[[  0  49]\n",
      " [  1 441]]\n",
      "the accuracy is  0.8981670061099797\n",
      "the precision is  0.9\n",
      "the recall is  0.997737556561086\n",
      "              precision    recall  f1-score   support\n",
      "\n",
      "           0       0.00      0.00      0.00        49\n",
      "           1       0.90      1.00      0.95       442\n",
      "\n",
      "    accuracy                           0.90       491\n",
      "   macro avg       0.45      0.50      0.47       491\n",
      "weighted avg       0.81      0.90      0.85       491\n"
     ]
    },
    {
     "data": {
      "text/plain": "(0.8981670061099797, 0.9, 0.997737556561086)"
     },
     "execution_count": 74,
     "metadata": {},
     "output_type": "execute_result"
    }
   ],
   "source": [
    "ypred = cnn(xtest)\n",
    "ypred = torch.argmax(ypred, axis=1).cpu()\n",
    "metric_analysis(torch.argmax(ytest, axis=1).cpu(), ypred)"
   ],
   "metadata": {
    "collapsed": false,
    "ExecuteTime": {
     "end_time": "2024-10-25T23:18:31.692719Z",
     "start_time": "2024-10-25T23:18:31.664736Z"
    }
   },
   "id": "1c4017c2060e509f"
  },
  {
   "cell_type": "code",
   "execution_count": 75,
   "outputs": [
    {
     "data": {
      "text/plain": "<Figure size 640x480 with 1 Axes>",
      "image/png": "[encoded data removed]"
     },
     "metadata": {},
     "output_type": "display_data"
    }
   ],
   "source": [
    "plot_loss(epochs, training_loss_list, validation_loss_list)"
   ],
   "metadata": {
    "collapsed": false,
    "ExecuteTime": {
     "end_time": "2024-10-25T23:18:31.729519Z",
     "start_time": "2024-10-25T23:18:31.690437Z"
    }
   },
   "id": "2cb2e62b7dbdcdf6"
  },
  {
   "cell_type": "markdown",
   "source": [
    "# discussion on the model performances"
   ],
   "metadata": {
    "collapsed": false
   },
   "id": "58af02b5b5ca9d60"
  },
  {
   "cell_type": "markdown",
   "source": [
    "4.2 \n",
    "Both models performed pretty poorly. The dataset was so biased towards one class that the model struggled to learn anyhting about the other class. most of the metrics are skewed towards the positive prediction class. \n",
    "\n",
    "In terms of comparison, it seems that the CNN model has overfit badly, and the LSTM has not overfit. It can actually be trianed for more epochs. From the next assignemnt, i will try synthenizing the data or i will downsample the dataset to get a better ratio "
   ],
   "metadata": {
    "collapsed": false
   },
   "id": "72c0323c0264d6f1"
  },
  {
   "cell_type": "markdown",
   "source": [
    "4.3 \n",
    "The difference is mainly in how we approach the problem. Since the problem is 0-1 classification problem, the accuracy recall and precision seem high. I think the LSTM model performs best, its hard to compare because they are 2 seperate problems. But i think the LSTM works best, high accuracy, at least for the positive class. I think if we remove the bias towards the positive class, the LSTM will perform significantly better. "
   ],
   "metadata": {
    "collapsed": false
   },
   "id": "307972dc5f7a5918"
  },
  {
   "cell_type": "markdown",
   "source": [
    "#### Question 1\n",
    "Q1: Rate your performance\n",
    "1-Very unsatisfied\n",
    "2-Somewhat unsatisfied\n",
    "3-Neutral\n",
    "4-Somewhat satisfied\n",
    "5-Very satisfied\n",
    "\n",
    "Answer: 3 - Neutral, i was confused about the raw coding of the LSTM and the CNN as i coudlnt get the shapes of the models right  \n",
    "\n",
    "#### Question 2\n",
    "Q2: How much does your understanding of the concepts influence\n",
    "your performance?\n",
    "1-Very unimportant\n",
    "2-Somewhat unimportant\n",
    "3-Neutral\n",
    "4-Somewhat important\n",
    "5-Very important\n",
    "\n",
    "Answer: 5 - Very important. My understanding of CNN and how to define the parameters helped me most. I also used online tools to help me find the shapes of the CNN model. \n",
    "\n",
    "#### Question 3\n",
    "Q3: How much does the design of the examples/questions (is relatable\n",
    "to you) influence your performance?\n",
    "1-Very unimportant\n",
    "2-Somewhat unimportant\n",
    "3-Neutral\n",
    "4-Somewhat important\n",
    "5-Very important\n",
    "\n",
    "Answer: 5 - Very important. The questions were structured in an organized way \n",
    "\n",
    "#### Question 4: \n",
    "Q4: When you answer Q3, which are the primary factors influencing\n",
    "the relatability of the examples to you?\n",
    "1-Gender\n",
    "2-Race\n",
    "3-Age\n",
    "4-Culture background\n",
    "5- Socioeconomic Status\n",
    "6- Hobbies and interests\n",
    "7- Prior knowledge about the context\n",
    "\n",
    "Answer: 7 prior Knowledge about the context \n",
    " "
   ],
   "metadata": {
    "collapsed": false
   },
   "id": "17c318288d99ab0"
  },
  {
   "cell_type": "code",
   "execution_count": null,
   "outputs": [],
   "source": [],
   "metadata": {
    "collapsed": false
   },
   "id": "7e0692e7f5bb5851"
  }
 ],
 "metadata": {
  "kernelspec": {
   "display_name": "Python 3",
   "language": "python",
   "name": "python3"
  },
  "language_info": {
   "codemirror_mode": {
    "name": "ipython",
    "version": 2
   },
   "file_extension": ".py",
   "mimetype": "text/x-python",
   "name": "python",
   "nbconvert_exporter": "python",
   "pygments_lexer": "ipython2",
   "version": "2.7.6"
  }
 },
 "nbformat": 4,
 "nbformat_minor": 5
}
